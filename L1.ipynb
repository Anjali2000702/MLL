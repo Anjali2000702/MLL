{
 "cells": [
  {
   "cell_type": "code",
   "execution_count": 1,
   "id": "05294940-81ba-4944-92ad-df344201b062",
   "metadata": {},
   "outputs": [
    {
     "name": "stdin",
     "output_type": "stream",
     "text": [
      "Enter number of TV hours:  9\n"
     ]
    },
    {
     "name": "stdout",
     "output_type": "stream",
     "text": [
      "Equation of line: y = -4.07x + 93.97\n",
      "Predicted Marks for 9 hours of TV watching: 57.36\n"
     ]
    }
   ],
   "source": [
    "# Write a program to find the marks for given hours using linear regression\n",
    "hrs = [0, 1, 2, 3, 3, 5, 5, 6, 7, 7, 10, 5]\n",
    "marks = [96, 85, 82, 74, 95, 68, 76, 58, 65, 75, 50, 84]\n",
    "\n",
    "n = len(hrs)\n",
    "\n",
    "# Step 1: Calculate means\n",
    "mean_x = sum(hrs) / n\n",
    "mean_y = sum(marks) / n\n",
    "\n",
    "# Step 2: Calculate slope (m)\n",
    "num = 0\n",
    "den = 0\n",
    "for i in range(n):\n",
    "    num += (hrs[i] - mean_x) * (marks[i] - mean_y)\n",
    "    den += (hrs[i] - mean_x) ** 2\n",
    "\n",
    "m = num / den\n",
    "\n",
    "# Step 3: Calculate intercept (c)\n",
    "c = mean_y - m * mean_x\n",
    "\n",
    "# User input\n",
    "h = int(input(\"Enter number of TV hours: \"))\n",
    "\n",
    "# Step 4: Prediction using y = mx + c\n",
    "predicted = m * h + c\n",
    "\n",
    "print(f\"Equation of line: y = {m:.2f}x + {c:.2f}\")\n",
    "print(f\"Predicted Marks for {h} hours of TV watching: {predicted:.2f}\")"
   ]
  },
  {
   "cell_type": "code",
   "execution_count": null,
   "id": "6d14987a-f376-4d93-9b07-fdd2fa374edd",
   "metadata": {},
   "outputs": [],
   "source": []
  }
 ],
 "metadata": {
  "kernelspec": {
   "display_name": "Python [conda env:base] *",
   "language": "python",
   "name": "conda-base-py"
  },
  "language_info": {
   "codemirror_mode": {
    "name": "ipython",
    "version": 3
   },
   "file_extension": ".py",
   "mimetype": "text/x-python",
   "name": "python",
   "nbconvert_exporter": "python",
   "pygments_lexer": "ipython3",
   "version": "3.13.5"
  }
 },
 "nbformat": 4,
 "nbformat_minor": 5
}
